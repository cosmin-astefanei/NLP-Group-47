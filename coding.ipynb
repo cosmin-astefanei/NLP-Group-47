{
 "cells": [
  {
   "cell_type": "code",
   "execution_count": 1,
   "metadata": {},
   "outputs": [],
   "source": [
    "# Imports\n",
    "import pandas as pd\n",
    "import numpy as np\n",
    "import matplotlib.pyplot as plt"
   ]
  },
  {
   "cell_type": "code",
   "execution_count": 2,
   "metadata": {},
   "outputs": [],
   "source": [
    "df = pd.read_csv(\"v14.csv\")"
   ]
  },
  {
   "cell_type": "code",
   "execution_count": 3,
   "metadata": {},
   "outputs": [
    {
     "data": {
      "text/html": [
       "<div>\n",
       "<style scoped>\n",
       "    .dataframe tbody tr th:only-of-type {\n",
       "        vertical-align: middle;\n",
       "    }\n",
       "\n",
       "    .dataframe tbody tr th {\n",
       "        vertical-align: top;\n",
       "    }\n",
       "\n",
       "    .dataframe thead th {\n",
       "        text-align: right;\n",
       "    }\n",
       "</style>\n",
       "<table border=\"1\" class=\"dataframe\">\n",
       "  <thead>\n",
       "    <tr style=\"text-align: right;\">\n",
       "      <th></th>\n",
       "      <th>Question</th>\n",
       "      <th>Category</th>\n",
       "      <th>Success</th>\n",
       "      <th>runtime beats</th>\n",
       "      <th>memory beats</th>\n",
       "      <th>Level</th>\n",
       "      <th>Calls library?</th>\n",
       "      <th>success 2nd try</th>\n",
       "      <th>Unnamed: 8</th>\n",
       "      <th>Language</th>\n",
       "      <th>why fail</th>\n",
       "    </tr>\n",
       "  </thead>\n",
       "  <tbody>\n",
       "    <tr>\n",
       "      <th>0</th>\n",
       "      <td>Remove Duplicates from Sorted Array</td>\n",
       "      <td>Array</td>\n",
       "      <td>Yes</td>\n",
       "      <td>83.95</td>\n",
       "      <td>49.52</td>\n",
       "      <td>Easy</td>\n",
       "      <td>NaN</td>\n",
       "      <td>NaN</td>\n",
       "      <td>NaN</td>\n",
       "      <td>Python</td>\n",
       "      <td>NaN</td>\n",
       "    </tr>\n",
       "    <tr>\n",
       "      <th>1</th>\n",
       "      <td>Best Time to Buy and Sell Stock II</td>\n",
       "      <td>Array</td>\n",
       "      <td>Yes</td>\n",
       "      <td>57.68</td>\n",
       "      <td>18.62</td>\n",
       "      <td>Easy</td>\n",
       "      <td>NaN</td>\n",
       "      <td>NaN</td>\n",
       "      <td>NaN</td>\n",
       "      <td>Python</td>\n",
       "      <td>NaN</td>\n",
       "    </tr>\n",
       "    <tr>\n",
       "      <th>2</th>\n",
       "      <td>Rotate Array</td>\n",
       "      <td>Array</td>\n",
       "      <td>Yes</td>\n",
       "      <td>75.45</td>\n",
       "      <td>26.39</td>\n",
       "      <td>Easy</td>\n",
       "      <td>NaN</td>\n",
       "      <td>NaN</td>\n",
       "      <td>NaN</td>\n",
       "      <td>Python</td>\n",
       "      <td>NaN</td>\n",
       "    </tr>\n",
       "    <tr>\n",
       "      <th>3</th>\n",
       "      <td>Contains Duplicate</td>\n",
       "      <td>Array</td>\n",
       "      <td>Yes</td>\n",
       "      <td>77.85</td>\n",
       "      <td>59.89</td>\n",
       "      <td>Easy</td>\n",
       "      <td>NaN</td>\n",
       "      <td>NaN</td>\n",
       "      <td>NaN</td>\n",
       "      <td>Python</td>\n",
       "      <td>NaN</td>\n",
       "    </tr>\n",
       "    <tr>\n",
       "      <th>4</th>\n",
       "      <td>Single Number</td>\n",
       "      <td>Array</td>\n",
       "      <td>Yes</td>\n",
       "      <td>71.58</td>\n",
       "      <td>44.82</td>\n",
       "      <td>Easy</td>\n",
       "      <td>NaN</td>\n",
       "      <td>NaN</td>\n",
       "      <td>NaN</td>\n",
       "      <td>Python</td>\n",
       "      <td>NaN</td>\n",
       "    </tr>\n",
       "    <tr>\n",
       "      <th>...</th>\n",
       "      <td>...</td>\n",
       "      <td>...</td>\n",
       "      <td>...</td>\n",
       "      <td>...</td>\n",
       "      <td>...</td>\n",
       "      <td>...</td>\n",
       "      <td>...</td>\n",
       "      <td>...</td>\n",
       "      <td>...</td>\n",
       "      <td>...</td>\n",
       "      <td>...</td>\n",
       "    </tr>\n",
       "    <tr>\n",
       "      <th>649</th>\n",
       "      <td>2157. Groups of Strings</td>\n",
       "      <td>NaN</td>\n",
       "      <td>wrong Answer</td>\n",
       "      <td>NaN</td>\n",
       "      <td>NaN</td>\n",
       "      <td>Hard</td>\n",
       "      <td>Yes</td>\n",
       "      <td>NaN</td>\n",
       "      <td>NaN</td>\n",
       "      <td>Python</td>\n",
       "      <td>NaN</td>\n",
       "    </tr>\n",
       "    <tr>\n",
       "      <th>650</th>\n",
       "      <td>2213. Longest Substring of One Repeating Chara...</td>\n",
       "      <td>NaN</td>\n",
       "      <td>wrong Answer</td>\n",
       "      <td>NaN</td>\n",
       "      <td>NaN</td>\n",
       "      <td>Hard</td>\n",
       "      <td>NaN</td>\n",
       "      <td>NaN</td>\n",
       "      <td>NaN</td>\n",
       "      <td>Python</td>\n",
       "      <td>NaN</td>\n",
       "    </tr>\n",
       "    <tr>\n",
       "      <th>651</th>\n",
       "      <td>2156. Find Substring With Given Hash Value</td>\n",
       "      <td>NaN</td>\n",
       "      <td>wrong Answer</td>\n",
       "      <td>NaN</td>\n",
       "      <td>NaN</td>\n",
       "      <td>Hard</td>\n",
       "      <td>NaN</td>\n",
       "      <td>NaN</td>\n",
       "      <td>NaN</td>\n",
       "      <td>Python</td>\n",
       "      <td>NaN</td>\n",
       "    </tr>\n",
       "    <tr>\n",
       "      <th>652</th>\n",
       "      <td>2117. Abbreviating the Product of a Range</td>\n",
       "      <td>NaN</td>\n",
       "      <td>Yes</td>\n",
       "      <td>6.38</td>\n",
       "      <td>59.57</td>\n",
       "      <td>Hard</td>\n",
       "      <td>NaN</td>\n",
       "      <td>NaN</td>\n",
       "      <td>NaN</td>\n",
       "      <td>Python</td>\n",
       "      <td>NaN</td>\n",
       "    </tr>\n",
       "    <tr>\n",
       "      <th>653</th>\n",
       "      <td>2035. Partition Array Into Two Arrays to Minim...</td>\n",
       "      <td>NaN</td>\n",
       "      <td>wrong answer</td>\n",
       "      <td>NaN</td>\n",
       "      <td>NaN</td>\n",
       "      <td>Hard</td>\n",
       "      <td>Yes</td>\n",
       "      <td>NaN</td>\n",
       "      <td>NaN</td>\n",
       "      <td>Python</td>\n",
       "      <td>wrong logic</td>\n",
       "    </tr>\n",
       "  </tbody>\n",
       "</table>\n",
       "<p>632 rows × 11 columns</p>\n",
       "</div>"
      ],
      "text/plain": [
       "                                              Question Category       Success  \\\n",
       "0                  Remove Duplicates from Sorted Array    Array           Yes   \n",
       "1                   Best Time to Buy and Sell Stock II    Array           Yes   \n",
       "2                                         Rotate Array    Array           Yes   \n",
       "3                                   Contains Duplicate    Array           Yes   \n",
       "4                                        Single Number    Array           Yes   \n",
       "..                                                 ...      ...           ...   \n",
       "649                            2157. Groups of Strings      NaN  wrong Answer   \n",
       "650  2213. Longest Substring of One Repeating Chara...      NaN  wrong Answer   \n",
       "651         2156. Find Substring With Given Hash Value      NaN  wrong Answer   \n",
       "652          2117. Abbreviating the Product of a Range      NaN           Yes   \n",
       "653  2035. Partition Array Into Two Arrays to Minim...      NaN  wrong answer   \n",
       "\n",
       "    runtime beats memory beats Level Calls library? success 2nd try  \\\n",
       "0           83.95        49.52  Easy            NaN             NaN   \n",
       "1           57.68        18.62  Easy            NaN             NaN   \n",
       "2           75.45        26.39  Easy            NaN             NaN   \n",
       "3           77.85        59.89  Easy            NaN             NaN   \n",
       "4           71.58        44.82  Easy            NaN             NaN   \n",
       "..            ...          ...   ...            ...             ...   \n",
       "649           NaN          NaN  Hard            Yes             NaN   \n",
       "650           NaN          NaN  Hard            NaN             NaN   \n",
       "651           NaN          NaN  Hard            NaN             NaN   \n",
       "652          6.38        59.57  Hard            NaN             NaN   \n",
       "653           NaN          NaN  Hard            Yes             NaN   \n",
       "\n",
       "     Unnamed: 8 Language     why fail  \n",
       "0           NaN   Python          NaN  \n",
       "1           NaN   Python          NaN  \n",
       "2           NaN   Python          NaN  \n",
       "3           NaN   Python          NaN  \n",
       "4           NaN   Python          NaN  \n",
       "..          ...      ...          ...  \n",
       "649         NaN   Python          NaN  \n",
       "650         NaN   Python          NaN  \n",
       "651         NaN   Python          NaN  \n",
       "652         NaN   Python          NaN  \n",
       "653         NaN   Python  wrong logic  \n",
       "\n",
       "[632 rows x 11 columns]"
      ]
     },
     "execution_count": 3,
     "metadata": {},
     "output_type": "execute_result"
    }
   ],
   "source": [
    "df = df[df['Question'].notna()]\n",
    "df"
   ]
  },
  {
   "cell_type": "code",
   "execution_count": 4,
   "metadata": {},
   "outputs": [
    {
     "data": {
      "text/plain": [
       "68"
      ]
     },
     "execution_count": 4,
     "metadata": {},
     "output_type": "execute_result"
    }
   ],
   "source": [
    "len(df[(df['Language'].str.contains('Python'))& (df['Level'].str.contains('Easy'))])"
   ]
  },
  {
   "cell_type": "code",
   "execution_count": 5,
   "metadata": {},
   "outputs": [
    {
     "data": {
      "text/plain": [
       "20"
      ]
     },
     "execution_count": 5,
     "metadata": {},
     "output_type": "execute_result"
    }
   ],
   "source": [
    "# Number of easy questions that are new\n",
    "# Name of new questions start with 2 as they are question number 2000 something\n",
    "len(df[(df['Language'].str.contains('Python'))& (df['Level'].str.contains('Easy')) & (df['Question'].str.startswith('2'))])"
   ]
  },
  {
   "cell_type": "code",
   "execution_count": 6,
   "metadata": {},
   "outputs": [
    {
     "data": {
      "text/plain": [
       "48"
      ]
     },
     "execution_count": 6,
     "metadata": {},
     "output_type": "execute_result"
    }
   ],
   "source": [
    "# Number of easy questions that are top question\n",
    "len(df[(df['Language'].str.contains('Python'))& (df['Level'].str.contains('Easy')) & (~df['Question'].str.startswith('2'))])"
   ]
  },
  {
   "attachments": {},
   "cell_type": "markdown",
   "metadata": {},
   "source": [
    "## We start by looking at the TOP QUESTIONS"
   ]
  },
  {
   "cell_type": "code",
   "execution_count": 7,
   "metadata": {},
   "outputs": [
    {
     "data": {
      "text/plain": [
       "Yes    48\n",
       "Name: Success, dtype: int64"
      ]
     },
     "execution_count": 7,
     "metadata": {},
     "output_type": "execute_result"
    }
   ],
   "source": [
    "# Classify results for Easy Python Top Question\n",
    "df[(df['Language'].str.contains('Python'))& (df['Level'].str.contains('Easy')) & (~df['Question'].str.startswith('2'))][\"Success\"].value_counts()"
   ]
  },
  {
   "cell_type": "code",
   "execution_count": 8,
   "metadata": {},
   "outputs": [
    {
     "data": {
      "text/plain": [
       "Yes                    42\n",
       "No, Wrong Answer        3\n",
       "No Time Limit Error     1\n",
       "Name: Success, dtype: int64"
      ]
     },
     "execution_count": 8,
     "metadata": {},
     "output_type": "execute_result"
    }
   ],
   "source": [
    "# Classify results for Medium Python Top Question\n",
    "df[(df['Language'].str.contains('Python'))& (df['Level'].str.contains('Medium')) & (~df['Question'].str.startswith('2'))][\"Success\"].value_counts()"
   ]
  },
  {
   "cell_type": "code",
   "execution_count": 9,
   "metadata": {},
   "outputs": [
    {
     "data": {
      "text/plain": [
       "Yes                         45\n",
       "No (runtime error)           2\n",
       "No (wrong result)            1\n",
       "No (time limit exceeded)     1\n",
       "Name: Success, dtype: int64"
      ]
     },
     "execution_count": 9,
     "metadata": {},
     "output_type": "execute_result"
    }
   ],
   "source": [
    "# Classify results for Hard Python Top Question\n",
    "df[(df['Language'].str.contains('Python'))& (df['Level'].str.contains('Hard')) & (~df['Question'].str.startswith('2'))][\"Success\"].value_counts()"
   ]
  },
  {
   "cell_type": "code",
   "execution_count": 10,
   "metadata": {},
   "outputs": [
    {
     "data": {
      "text/plain": [
       "Yes                                                                                                                                                                                                                                                                                                                                                                                                  47\n",
       "No: Compile Error: Line 11: Char 9: error: too many arguments to function call, expected 1, have 2; did you mean '::reverse'? reverse(s.begin(), s.end()); ^~~~~~~ ::reverse /usr/bin/../lib/gcc/x86_64-linux-gnu/9/../../../../include/c++/9/bits/stl_algo.h:1180:5: Note: '::reverse' declared here reverse(_BidirectionalIterator __first, _BidirectionalIterator __last) ^ 1 error generated.     1\n",
       "Name: Success, dtype: int64"
      ]
     },
     "execution_count": 10,
     "metadata": {},
     "output_type": "execute_result"
    }
   ],
   "source": [
    "# Classify results for Easy C++ Top Question\n",
    "df[(df['Language'] == 'C++')& (df['Level'].str.contains('Easy')) & (~df['Question'].str.startswith('2'))][\"Success\"].value_counts()"
   ]
  },
  {
   "cell_type": "code",
   "execution_count": 11,
   "metadata": {},
   "outputs": [
    {
     "data": {
      "text/plain": [
       "Yes                                                                                                       45\n",
       "No: Runtime Error Message:\\r\\nLine 5: Char 33: runtime error: left shift of negative value -2147483648     1\n",
       "Name: Success, dtype: int64"
      ]
     },
     "execution_count": 11,
     "metadata": {},
     "output_type": "execute_result"
    }
   ],
   "source": [
    "# Classify results for Medium C++ Top Question\n",
    "df[(df['Language'] == 'C++')& (df['Level'].str.contains('Medium')) & (~df['Question'].str.startswith('2'))][\"Success\"].value_counts()"
   ]
  },
  {
   "cell_type": "code",
   "execution_count": 12,
   "metadata": {},
   "outputs": [
    {
     "data": {
      "text/plain": [
       "Yes                        44\n",
       "No: Wrong Answer            2\n",
       "No: wrong answer            2\n",
       "No: Time Limit Exceeded     1\n",
       "Name: Success, dtype: int64"
      ]
     },
     "execution_count": 12,
     "metadata": {},
     "output_type": "execute_result"
    }
   ],
   "source": [
    "# Classify results for Hard C++ Top Question\n",
    "df[(df['Language'] == 'C++')& (df['Level'].str.contains('Hard')) & (~df['Question'].str.startswith('2'))][\"Success\"].value_counts()"
   ]
  },
  {
   "cell_type": "code",
   "execution_count": 13,
   "metadata": {},
   "outputs": [
    {
     "data": {
      "text/plain": [
       "Yes                                                                                                                             46\n",
       "No, Wrong answer. GPT calculates the maximum you can make from a single sale instead of all the possible sales in the period     1\n",
       "No, Time limit Exceeded                                                                                                          1\n",
       "Name: Success, dtype: int64"
      ]
     },
     "execution_count": 13,
     "metadata": {},
     "output_type": "execute_result"
    }
   ],
   "source": [
    "# Classify results for Easy Ruby Top Question\n",
    "df[(df['Language'] == 'Ruby')& (df['Level'].str.contains('Easy')) & (~df['Question'].str.startswith('2'))][\"Success\"].value_counts()"
   ]
  },
  {
   "cell_type": "code",
   "execution_count": 14,
   "metadata": {},
   "outputs": [
    {
     "data": {
      "text/plain": [
       "Yes                                                                                                                                                                                                                                            35\n",
       "No, Wrong Answer. It returns the zigzag order for odd levels, instead of the intended odd levels order. It gets it right after you tell it its wrong and give an example. It also gets it right the first time if you provide the examples.     1\n",
       "No, runtime error. When right Node doesnt have any examples you cant use + apparently. When attempting to fix the same error it produces a very similar error                                                                                   1\n",
       "No, Runtime error. The scoop is Not defined properly. I think Ruby doesn't have a gloabal scoop which this guy assumes.                                                                                                                         1\n",
       "No, Runtime error. Again, a problem with scoop                                                                                                                                                                                                  1\n",
       "No, Wrong answer. Logic error                                                                                                                                                                                                                   1\n",
       "No, Runtime error. Doesn't guard against nil and try to access variables.                                                                                                                                                                       1\n",
       "No, Time limit exceeded. Potentially doesnt kNow how to use bit wise operators in Ruby.                                                                                                                                                         1\n",
       "No, Wrong answer. He fails to get the right answer even with examples                                                                                                                                                                           1\n",
       "No, Wrong answer.  Gets a right asnwer if fed the examples.                                                                                                                                                                                     1\n",
       "No, Time limit exceeded. Even when the examples are provided                                                                                                                                                                                    1\n",
       "No, Wrong answer. It fails when the examples are Not provided. But it also fails (differently) when they are                                                                                                                                    1\n",
       "Name: Success, dtype: int64"
      ]
     },
     "execution_count": 14,
     "metadata": {},
     "output_type": "execute_result"
    }
   ],
   "source": [
    "# Classify results for Medium Ruby Top Question\n",
    "df[(df['Language'] == 'Ruby')& (df['Level'].str.contains('Medium')) & (~df['Question'].str.startswith('2'))][\"Success\"].value_counts()"
   ]
  },
  {
   "cell_type": "code",
   "execution_count": 15,
   "metadata": {},
   "outputs": [
    {
     "data": {
      "text/plain": [
       "Yes                                                               36\n",
       "No, Wrong answer. Might work with some examples                    2\n",
       "No, Runtime Error. Trying to acess NilClass                        1\n",
       "No, Wrong answer. With the operations thing again                  1\n",
       "No, Time limit Exceeded                                            1\n",
       "No, Wrong asnwer. Probably can do it with examples. Didn't try     1\n",
       "No: Wrong Answer                                                   1\n",
       "No, Wrong answer. Might get it right with some examples            1\n",
       "No, Time Limit Exceeded                                            1\n",
       "No, Runtime Error. NilClass thing again                            1\n",
       "No, Wrong answer. But could be corrected with Examples             1\n",
       "No, Runtime Error. NilClass thing                                  1\n",
       "No, Wrong answer. Might be right with examples.                    1\n",
       "Name: Success, dtype: int64"
      ]
     },
     "execution_count": 15,
     "metadata": {},
     "output_type": "execute_result"
    }
   ],
   "source": [
    "# Classify results for Hard Ruby Top Question\n",
    "df[(df['Language'] == 'Ruby')& (df['Level'].str.contains('Hard')) & (~df['Question'].str.startswith('2'))][\"Success\"].value_counts()"
   ]
  },
  {
   "cell_type": "code",
   "execution_count": 16,
   "metadata": {},
   "outputs": [
    {
     "data": {
      "text/plain": [
       "48"
      ]
     },
     "execution_count": 16,
     "metadata": {},
     "output_type": "execute_result"
    }
   ],
   "source": [
    "len(df[(df['Language'] == 'Elixir')& (df['Level'].str.contains('Easy')) & (~df['Question'].str.startswith('2'))])"
   ]
  },
  {
   "cell_type": "code",
   "execution_count": 17,
   "metadata": {},
   "outputs": [
    {
     "data": {
      "text/plain": [
       "No Elixir                                                                                                                                                                                                                                                                                                            9\n",
       "Yes                                                                                                                                                                                                                                                                                                                  8\n",
       "No: Wrong Answer                                                                                                                                                                                                                                                                                                     6\n",
       "No: Compile Error: undefined function return                                                                                                                                                                                                                                                                         2\n",
       "No: Compile Error: Line 18: ** (CompileError) canNot invoke remote function current.next/0 inside a match                                                                                                                                                                                                            1\n",
       "Line 14: ** (CompileError) undefined function return/1 (expected Solution to define such a function or for it to be imported, but None are available)                                                                                                                                                                1\n",
       "No: Runtime Error Message:\\r\\nLine 15: ** (ArithmeticError) bad argument in arithmetic expression: nil + nil                                                                                                                                                                                                         1\n",
       "Np: Compile Error: Line 6: ** (CompileError) undefined function &&&/2 (expected Solution to define such a function or for it to be imported, but None are available)                                                                                                                                                 1\n",
       "No: Compile Error: Line 68: Char 1: ** (TokenMissingError) missing terminator: end (for \"do\" starting at line 1) HINT: it looks like the \"do\" on line 1 does Not have a matching \"end\" | 68 | | ^ (elixir 1.13.0) lib/kernel/parallel_compiler.ex:346: aNonymous fn/5 in Kernel.ParallelCompiler.spawn_workers/7     1\n",
       "No: Line 6: ** (CompileError) undefined function return/1 (expected Solution to define such a function or for it to be imported, but None are available)                                                                                                                                                             1\n",
       "No: Compile Error: Line 16: ** (CompileError) undefined function return/1 (expected Solution to define such a function or for it to be imported, but None are available)                                                                                                                                             1\n",
       "No: Line 20: ** (CompileError) undefined function while/2 (expected Solution to define such a function or for it to be imported, but None are available)                                                                                                                                                             1\n",
       "No: Compile Error: Line 18: Char 8: ** (SyntaxError) syntax error before: '.' | 18 | @. Node.val > @.prev_val && is_valid_bst(Node.right) | ^ (elixir 1.13.0) lib/kernel/parallel_compiler.ex:346: aNonymous fn/5 in Kernel.ParallelCompiler.spawn_workers/7                                                         1\n",
       "No: Line 36: ** (CompileError) canNot invoke remote function head.next/0 inside a match                                                                                                                                                                                                                              1\n",
       "No: Line 9: ** (ArithmeticError) bad argument in arithmetic expression: 1 + nil\\r\\n    :erlang.+(1, nil): Line 9: ** (ArgumentError) the Access calls for keywords expect the key to be an atom, got: 1                                                                                                              1\n",
       "No: Compile Error: Line 38: ** (CompileError) canNot invoke remote function Node.next/0 inside a match                                                                                                                                                                                                               1\n",
       "Compile Error                                                                                                                                                                                                                                                                                                        1\n",
       "No: Runtime Error Message:\\r\\nLine 17: ** (Protocol.UndefinedError) protocol Enumerable Not implemented for \"III\" of type BitString                                                                                                                                                                                  1\n",
       "No: Runtime Error Message:\\r\\nLine 7: ** (UndefinedFunctionError) function :math.log/2 is undefined or private.                                                                                                                                                                                                      1\n",
       "No: Compile Error: Line 11: Char 90: ** (SyntaxError) syntax error before: '(' | 11 | if primes[i], do: Enum.each(Enum.filter(Enum.keys(primes), fn j -> j > i end, &:rem(j, i) == 0), fn j -> | ^ (elixir 1.13.0) lib/kernel/parallel_compiler.ex:346: aNonymous fn/5 in Kernel.ParallelCompiler.spawn_workers/7    1\n",
       "No: Runtime Error: (FunctionClauseError) No function clause matching in Enum.min_sort_fun/1                                                                                                                                                                                                                          1\n",
       "N0: Compilation Error: canNot invoke remote function Access.get/2 inside a match                                                                                                                                                                                                                                     1\n",
       "Compile Error: uses bitwise token symbol ⊕ inside the code, which is Not recognised                                                                                                                                                                                                                                  1\n",
       "RuntimeError: Not a list                                                                                                                                                                                                                                                                                             1\n",
       "No: Compile Error: Line 5: Char 34: ** (SyntaxError) syntax error before: 'div' | 5 | expected_sum = (n * (n + 1)) div 2 | ^ (elixir 1.13.0) lib/kernel/parallel_compiler.ex:346: aNonymous fn/5 in Kernel.ParallelCompiler.spawn_workers/7                                                                          1\n",
       "Name: Success, dtype: int64"
      ]
     },
     "execution_count": 17,
     "metadata": {},
     "output_type": "execute_result"
    }
   ],
   "source": [
    "# Classify results for Easy Elixir Top Question\n",
    "df[(df['Language'] == 'Elixir')& (df['Level'].str.contains('Easy')) & (~df['Question'].str.startswith('2'))][\"Success\"].value_counts()"
   ]
  },
  {
   "cell_type": "code",
   "execution_count": 18,
   "metadata": {},
   "outputs": [
    {
     "data": {
      "text/plain": [
       "compile error    26\n",
       "runtime error     7\n",
       "No elixir         6\n",
       "wrong answer      4\n",
       "Yes               3\n",
       "Name: Success, dtype: int64"
      ]
     },
     "execution_count": 18,
     "metadata": {},
     "output_type": "execute_result"
    }
   ],
   "source": [
    "# Classify results for Medium Elixir Top Question\n",
    "df[(df['Language'] == 'Elixir')& (df['Level'].str.contains('Medium')) & (~df['Question'].str.startswith('2'))][\"Success\"].value_counts()"
   ]
  },
  {
   "cell_type": "code",
   "execution_count": 19,
   "metadata": {},
   "outputs": [
    {
     "data": {
      "text/plain": [
       "No compile error    30\n",
       "No runtime error     7\n",
       "wrong answer         3\n",
       "Yes                  1\n",
       "compile error        1\n",
       "Name: Success, dtype: int64"
      ]
     },
     "execution_count": 19,
     "metadata": {},
     "output_type": "execute_result"
    }
   ],
   "source": [
    "# Classify results for Hard Elixir Top Question\n",
    "df[(df['Language'] == 'Elixir')& (df['Level'].str.contains('Hard')) & (~df['Question'].str.startswith('2'))][\"Success\"].value_counts()"
   ]
  },
  {
   "attachments": {},
   "cell_type": "markdown",
   "metadata": {},
   "source": [
    "## Now we look at the NEWEST questions"
   ]
  },
  {
   "cell_type": "code",
   "execution_count": 20,
   "metadata": {},
   "outputs": [
    {
     "data": {
      "text/plain": [
       "Yes                                                                                                                                                                                                                12\n",
       "No: Wrong Answer 75/388                                                                                                                                                                                             1\n",
       "No: Wrong Answer, 1/68                                                                                                                                                                                              1\n",
       "No: Runtime Error: not checking edge case of empty string                                                                                                                                                           1\n",
       "No: Wrong Answer: 0/214 passed, not sure of mistake                                                                                                                                                                 1\n",
       "No: Wrong Answer: 1/100 passed, small mistake (forgot to substract 1), The difference in this implementation is the condition in the inner loop, which now checks whether (x-1) % i == 0 instead of x % i == 1      1\n",
       "No: Wrong Answer: 15/118 passed, basically did the same sign change twice, returning all numbers as they were, without the sign change needed                                                                       1\n",
       "No: Wrong Answer, 361/1848                                                                                                                                                                                          1\n",
       "No: Wrong Answer 140 / 3802                                                                                                                                                                                         1\n",
       "Name: Success, dtype: int64"
      ]
     },
     "execution_count": 20,
     "metadata": {},
     "output_type": "execute_result"
    }
   ],
   "source": [
    "# Classify results for Easy Python NEW questions\n",
    "df[(df['Language'].str.contains('Python'))& (df['Level'].str.contains('Easy')) & (df['Question'].str.startswith('2'))][\"Success\"].value_counts()"
   ]
  },
  {
   "cell_type": "code",
   "execution_count": 21,
   "metadata": {},
   "outputs": [
    {
     "data": {
      "text/plain": [
       "Yes                                                                                                                  6\n",
       "No: Wrong Answer                                                                                                     2\n",
       "No: Wrong Answer 1/564                                                                                               1\n",
       "No: Wrong Answer 451/1035, skipped over some numbers by using .pop() to get them, instead of just looking at them    1\n",
       "No: Wrong Answer 363 / 1040                                                                                          1\n",
       "No: Wrong Answer 0/31                                                                                                1\n",
       "No: Wrong Answer: 513 / 654                                                                                          1\n",
       "No: Wrong Answer 16/66                                                                                               1\n",
       "No: Wrong Answer 238 / 1061                                                                                          1\n",
       "No: Wrong Answer 122 / 1307                                                                                          1\n",
       "No: Time Limit Exceeded                                                                                              1\n",
       "Yes                                                                                                                  1\n",
       "No: Wrong Answer 2/32                                                                                                1\n",
       "No: Wrong Answer 6/68                                                                                                1\n",
       "Name: Success, dtype: int64"
      ]
     },
     "execution_count": 21,
     "metadata": {},
     "output_type": "execute_result"
    }
   ],
   "source": [
    "# Classify results for Medium Python NEW questions\n",
    "df[(df['Language'].str.contains('Python'))& (df['Level'].str.contains('Medium')) & (df['Question'].str.startswith('2'))][\"Success\"].value_counts()"
   ]
  },
  {
   "cell_type": "code",
   "execution_count": 22,
   "metadata": {},
   "outputs": [
    {
     "data": {
      "text/plain": [
       "wrong Answer           10\n",
       "Time Limit Exceeded     5\n",
       "wrong answer            3\n",
       "Wrong Answer            1\n",
       "Yes                     1\n",
       "Name: Success, dtype: int64"
      ]
     },
     "execution_count": 22,
     "metadata": {},
     "output_type": "execute_result"
    }
   ],
   "source": [
    "# Classify results for Hard Python NEW questions\n",
    "df[(df['Language'].str.contains('Python'))& (df['Level'].str.contains('Hard')) & (df['Question'].str.startswith('2'))][\"Success\"].value_counts()"
   ]
  },
  {
   "cell_type": "code",
   "execution_count": 23,
   "metadata": {},
   "outputs": [
    {
     "data": {
      "text/plain": [
       "2"
      ]
     },
     "execution_count": 23,
     "metadata": {},
     "output_type": "execute_result"
    }
   ],
   "source": [
    "# Failure modes for Python\n",
    "len(df[(df['Language'].str.contains('Python'))& (~df['Question'].str.startswith('2'))&(df['Success'].str.lower().str.contains(\"wrong\"))])\n",
    "len(df[(df['Language'].str.contains('Python'))& (~df['Question'].str.startswith('2'))&(df['Success'].str.lower().str.contains(\"compile\"))])\n",
    "len(df[(df['Language'].str.contains('Python'))& (~df['Question'].str.startswith('2'))&(df['Success'].str.lower().str.contains(\"runtime\"))])\n",
    "len(df[(df['Language'].str.contains('Python'))& (~df['Question'].str.startswith('2'))&(df['Success'].str.lower().str.contains(\"time lim\"))])"
   ]
  },
  {
   "cell_type": "code",
   "execution_count": 24,
   "metadata": {},
   "outputs": [
    {
     "data": {
      "text/plain": [
       "1"
      ]
     },
     "execution_count": 24,
     "metadata": {},
     "output_type": "execute_result"
    }
   ],
   "source": [
    "# Failure modes for C++\n",
    "len(df[(df['Language']=='C++')& (~df['Question'].str.startswith('2'))&(df['Success'].str.lower().str.contains(\"time lim\"))])\n",
    "len(df[(df['Language']=='C++')& (~df['Question'].str.startswith('2'))&(df['Success'].str.lower().str.contains(\"wrong\"))])\n",
    "len(df[(df['Language']=='C++')& (~df['Question'].str.startswith('2'))&(df['Success'].str.lower().str.contains(\"runtime\"))])\n",
    "len(df[(df['Language']=='C++')& (~df['Question'].str.startswith('2'))&(df['Success'].str.lower().str.contains(\"compile\"))])"
   ]
  },
  {
   "cell_type": "code",
   "execution_count": 25,
   "metadata": {},
   "outputs": [
    {
     "name": "stdout",
     "output_type": "stream",
     "text": [
      "0\n",
      "14\n",
      "7\n",
      "5\n"
     ]
    }
   ],
   "source": [
    "# Failure modes for Ruby\n",
    "print(len(df[(df['Language']=='Ruby')& (~df['Question'].str.startswith('2'))&(df['Success'].str.lower().str.contains(\"compile\"))]))\n",
    "print(len(df[(df['Language']=='Ruby')& (~df['Question'].str.startswith('2'))&(df['Success'].str.lower().str.contains(\"wrong\"))]))\n",
    "print(len(df[(df['Language']=='Ruby')& (~df['Question'].str.startswith('2'))&(df['Success'].str.lower().str.contains(\"runtime\"))]))\n",
    "print(len(df[(df['Language']=='Ruby')& (~df['Question'].str.startswith('2'))&(df['Success'].str.lower().str.contains(\"time lim\"))]))"
   ]
  },
  {
   "cell_type": "code",
   "execution_count": 26,
   "metadata": {},
   "outputs": [
    {
     "name": "stdout",
     "output_type": "stream",
     "text": [
      "73\n",
      "13\n",
      "19\n",
      "0\n"
     ]
    }
   ],
   "source": [
    "# Failure modes for Elixir\n",
    "print(len(df[(df['Language']=='Elixir')& (~df['Question'].str.startswith('2'))&(df['Success'].str.lower().str.contains(\"compile\"))]))\n",
    "print(len(df[(df['Language']=='Elixir')& (~df['Question'].str.startswith('2'))&(df['Success'].str.lower().str.contains(\"wrong\"))]))\n",
    "print(len(df[(df['Language']=='Elixir')& (~df['Question'].str.startswith('2'))&(df['Success'].str.lower().str.contains(\"runtime\"))]))\n",
    "print(len(df[(df['Language']=='Elixir')& (~df['Question'].str.startswith('2'))&(df['Success'].str.lower().str.contains(\"time lim\"))]))"
   ]
  },
  {
   "cell_type": "code",
   "execution_count": 27,
   "metadata": {},
   "outputs": [
    {
     "name": "stdout",
     "output_type": "stream",
     "text": [
      "0\n",
      "33\n",
      "1\n",
      "6\n"
     ]
    }
   ],
   "source": [
    "# Failure modes for Python NEWEST Questions\n",
    "print(len(df[(df['Language']=='Python')& (df['Question'].str.startswith('2'))&(df['Success'].str.lower().str.contains(\"compile\"))]))\n",
    "print(len(df[(df['Language']=='Python')& (df['Question'].str.startswith('2'))&(df['Success'].str.lower().str.contains(\"wrong\"))]))\n",
    "print(len(df[(df['Language']=='Python')& (df['Question'].str.startswith('2'))&(df['Success'].str.lower().str.contains(\"runtime\"))]))\n",
    "print(len(df[(df['Language']=='Python')& (df['Question'].str.startswith('2'))&(df['Success'].str.lower().str.contains(\"time lim\"))]))"
   ]
  },
  {
   "attachments": {},
   "cell_type": "markdown",
   "metadata": {},
   "source": [
    "## Now we compare runtime and memory percentiles"
   ]
  },
  {
   "cell_type": "code",
   "execution_count": 28,
   "metadata": {},
   "outputs": [],
   "source": [
    "a = list(df[(df['Language'] == 'Python' )]['runtime beats'].dropna())\n",
    "a = [float(x) for x in a]\n",
    "b = list(df[(df['Language'] == 'Python' )]['memory beats'].dropna())\n",
    "b = [float(x) for x in b if any(chr.isdigit() for chr in x)]"
   ]
  },
  {
   "cell_type": "code",
   "execution_count": 29,
   "metadata": {},
   "outputs": [
    {
     "data": {
      "image/png": "[encoded data removed]",
      "text/plain": [
       "<Figure size 640x480 with 1 Axes>"
      ]
     },
     "metadata": {},
     "output_type": "display_data"
    }
   ],
   "source": [
    "from matplotlib import rcParams\n",
    "rcParams['font.family'] = 'monospace'\n",
    "bins = np.linspace(0, 100, 10)\n",
    "\n",
    "plt.hist(a, bins, alpha=0.5, label='Memory Percentile, mean = ' + str(round(np.mean(a), 1)))\n",
    "plt.hist(b, bins, alpha=0.5, label='Runtime Percentile mean = ' + str(round(np.mean(b), 1)))\n",
    "plt.legend(loc='upper left', fontsize=\"14\")\n",
    "plt.title(\"Python Percentiles Histogram\", fontsize = 18)\n",
    "plt.xticks(fontsize=18)\n",
    "plt.yticks(fontsize=18)\n",
    "plt.xlabel(\"Percentile\",fontsize=16)\n",
    "plt.ylabel(\"Frequency\",fontsize=16)\n",
    "plt.show()"
   ]
  },
  {
   "cell_type": "code",
   "execution_count": 30,
   "metadata": {},
   "outputs": [],
   "source": [
    "a = list(df[(df['Language'] == 'C++' )]['memory beats'].dropna())\n",
    "a = [float(x) for x in a if any(chr.isdigit() for chr in x)]\n",
    "b = list(df[(df['Language'] == 'C++' )]['runtime beats'].dropna())\n",
    "b = [float(x) for x in b if any(chr.isdigit() for chr in x)]"
   ]
  },
  {
   "cell_type": "code",
   "execution_count": 31,
   "metadata": {},
   "outputs": [
    {
     "data": {
      "image/png": "[encoded data removed]",
      "text/plain": [
       "<Figure size 640x480 with 1 Axes>"
      ]
     },
     "metadata": {},
     "output_type": "display_data"
    }
   ],
   "source": [
    "bins = np.linspace(0, 100, 10)\n",
    "\n",
    "plt.hist(a, bins, alpha=0.5, label='Memory Percentile, mean = ' + str(round(np.mean(a), 1)))\n",
    "plt.hist(b, bins, alpha=0.5, label='Runtime Percentile mean = ' + str(round(np.mean(b), 1)))\n",
    "plt.legend(loc='upper left', fontsize=\"14\")\n",
    "plt.title(\"C++ Percentiles Histogram\", fontsize = 18)\n",
    "plt.xticks(fontsize=18)\n",
    "plt.yticks(fontsize=18)\n",
    "plt.xlabel(\"Percentile\",fontsize=16)\n",
    "plt.ylabel(\"Frequency\",fontsize=16)\n",
    "plt.show()"
   ]
  },
  {
   "attachments": {},
   "cell_type": "markdown",
   "metadata": {},
   "source": [
    "## Now we look at the 10 categories to see if any fail more often than the rest"
   ]
  },
  {
   "cell_type": "code",
   "execution_count": 32,
   "metadata": {},
   "outputs": [
    {
     "data": {
      "text/plain": [
       "{'Array',\n",
       " 'Array and Strings',\n",
       " 'Back Tracking',\n",
       " 'Backtracking',\n",
       " 'Design',\n",
       " 'Dynamic Programming',\n",
       " 'Linked List',\n",
       " 'Math',\n",
       " 'Others',\n",
       " 'Sorting and Searching',\n",
       " 'Strings',\n",
       " 'Trees',\n",
       " 'Trees and Graphs'}"
      ]
     },
     "execution_count": 32,
     "metadata": {},
     "output_type": "execute_result"
    }
   ],
   "source": [
    "set(df[\"Category\"].dropna())"
   ]
  },
  {
   "cell_type": "code",
   "execution_count": 33,
   "metadata": {},
   "outputs": [
    {
     "data": {
      "text/plain": [
       "Yes                                                                                                                             32\n",
       "No Elixir                                                                                                                        3\n",
       "No: Wrong Answer                                                                                                                 2\n",
       "No: Compile Error: undefined function return                                                                                     2\n",
       "No, Wrong answer. GPT calculates the maximum you can make from a single sale instead of all the possible sales in the period     1\n",
       "Compile Error                                                                                                                    1\n",
       "RuntimeError: Not a list                                                                                                         1\n",
       "Compile Error: uses bitwise token symbol ⊕ inside the code, which is Not recognised                                              1\n",
       "Name: Success, dtype: int64"
      ]
     },
     "execution_count": 33,
     "metadata": {},
     "output_type": "execute_result"
    }
   ],
   "source": [
    "df[(df['Category'] == 'Array')]['Success'].value_counts()"
   ]
  },
  {
   "cell_type": "code",
   "execution_count": 34,
   "metadata": {},
   "outputs": [
    {
     "data": {
      "text/html": [
       "<div>\n",
       "<style scoped>\n",
       "    .dataframe tbody tr th:only-of-type {\n",
       "        vertical-align: middle;\n",
       "    }\n",
       "\n",
       "    .dataframe tbody tr th {\n",
       "        vertical-align: top;\n",
       "    }\n",
       "\n",
       "    .dataframe thead th {\n",
       "        text-align: right;\n",
       "    }\n",
       "</style>\n",
       "<table border=\"1\" class=\"dataframe\">\n",
       "  <thead>\n",
       "    <tr style=\"text-align: right;\">\n",
       "      <th></th>\n",
       "      <th>Question</th>\n",
       "      <th>Category</th>\n",
       "      <th>Success</th>\n",
       "      <th>runtime beats</th>\n",
       "      <th>memory beats</th>\n",
       "      <th>Level</th>\n",
       "      <th>Calls library?</th>\n",
       "      <th>success 2nd try</th>\n",
       "      <th>Unnamed: 8</th>\n",
       "      <th>Language</th>\n",
       "      <th>why fail</th>\n",
       "    </tr>\n",
       "  </thead>\n",
       "  <tbody>\n",
       "    <tr>\n",
       "      <th>103</th>\n",
       "      <td>First Missing Positive</td>\n",
       "      <td>Array and Strings</td>\n",
       "      <td>No (wrong result)</td>\n",
       "      <td>NaN</td>\n",
       "      <td>NaN</td>\n",
       "      <td>Hard</td>\n",
       "      <td>NaN</td>\n",
       "      <td>Yes. runtime: 67.96, memory: 81.36</td>\n",
       "      <td>NaN</td>\n",
       "      <td>Python</td>\n",
       "      <td>NaN</td>\n",
       "    </tr>\n",
       "  </tbody>\n",
       "</table>\n",
       "</div>"
      ],
      "text/plain": [
       "                   Question           Category            Success  \\\n",
       "103  First Missing Positive  Array and Strings  No (wrong result)   \n",
       "\n",
       "    runtime beats memory beats Level Calls library?  \\\n",
       "103           NaN          NaN  Hard            NaN   \n",
       "\n",
       "                        success 2nd try  Unnamed: 8 Language why fail  \n",
       "103  Yes. runtime: 67.96, memory: 81.36         NaN   Python      NaN  "
      ]
     },
     "execution_count": 34,
     "metadata": {},
     "output_type": "execute_result"
    }
   ],
   "source": [
    "df[((df['Category'].str.contains('Array')) | (df['Category'].str.contains('String')))& (df['Success'].str.contains('No')) & (df['Language'] == \"Python\")]"
   ]
  },
  {
   "cell_type": "code",
   "execution_count": 35,
   "metadata": {},
   "outputs": [
    {
     "data": {
      "text/html": [
       "<div>\n",
       "<style scoped>\n",
       "    .dataframe tbody tr th:only-of-type {\n",
       "        vertical-align: middle;\n",
       "    }\n",
       "\n",
       "    .dataframe tbody tr th {\n",
       "        vertical-align: top;\n",
       "    }\n",
       "\n",
       "    .dataframe thead th {\n",
       "        text-align: right;\n",
       "    }\n",
       "</style>\n",
       "<table border=\"1\" class=\"dataframe\">\n",
       "  <thead>\n",
       "    <tr style=\"text-align: right;\">\n",
       "      <th></th>\n",
       "      <th>Question</th>\n",
       "      <th>Category</th>\n",
       "      <th>Success</th>\n",
       "      <th>runtime beats</th>\n",
       "      <th>memory beats</th>\n",
       "      <th>Level</th>\n",
       "      <th>Calls library?</th>\n",
       "      <th>success 2nd try</th>\n",
       "      <th>Unnamed: 8</th>\n",
       "      <th>Language</th>\n",
       "      <th>why fail</th>\n",
       "    </tr>\n",
       "  </thead>\n",
       "  <tbody>\n",
       "    <tr>\n",
       "      <th>179</th>\n",
       "      <td>Reverse Integer</td>\n",
       "      <td>Strings</td>\n",
       "      <td>No: Compile Error: Line 11: Char 9: error: too...</td>\n",
       "      <td>NaN</td>\n",
       "      <td>NaN</td>\n",
       "      <td>Easy</td>\n",
       "      <td>NaN</td>\n",
       "      <td>Yes: 100, 65.23</td>\n",
       "      <td>NaN</td>\n",
       "      <td>C++</td>\n",
       "      <td>reason, it defined reverse with one arg and th...</td>\n",
       "    </tr>\n",
       "    <tr>\n",
       "      <th>251</th>\n",
       "      <td>Basic Calculator II</td>\n",
       "      <td>Array and Strings</td>\n",
       "      <td>No: Wrong Answer</td>\n",
       "      <td>69.23</td>\n",
       "      <td>86.96</td>\n",
       "      <td>Hard</td>\n",
       "      <td>Yes</td>\n",
       "      <td>NaN</td>\n",
       "      <td>NaN</td>\n",
       "      <td>C++</td>\n",
       "      <td>NaN</td>\n",
       "    </tr>\n",
       "  </tbody>\n",
       "</table>\n",
       "</div>"
      ],
      "text/plain": [
       "                Question           Category  \\\n",
       "179      Reverse Integer            Strings   \n",
       "251  Basic Calculator II  Array and Strings   \n",
       "\n",
       "                                               Success runtime beats  \\\n",
       "179  No: Compile Error: Line 11: Char 9: error: too...           NaN   \n",
       "251                                   No: Wrong Answer         69.23   \n",
       "\n",
       "    memory beats Level Calls library?  success 2nd try  Unnamed: 8 Language  \\\n",
       "179          NaN  Easy            NaN  Yes: 100, 65.23         NaN      C++   \n",
       "251        86.96  Hard            Yes              NaN         NaN      C++   \n",
       "\n",
       "                                              why fail  \n",
       "179  reason, it defined reverse with one arg and th...  \n",
       "251                                                NaN  "
      ]
     },
     "execution_count": 35,
     "metadata": {},
     "output_type": "execute_result"
    }
   ],
   "source": [
    "df[((df['Category'].str.contains('Array')) | (df['Category'].str.contains('String')))& (df['Success'].str.contains('No')) & (df['Language'] == \"C++\")]"
   ]
  },
  {
   "cell_type": "code",
   "execution_count": 36,
   "metadata": {},
   "outputs": [
    {
     "data": {
      "text/html": [
       "<div>\n",
       "<style scoped>\n",
       "    .dataframe tbody tr th:only-of-type {\n",
       "        vertical-align: middle;\n",
       "    }\n",
       "\n",
       "    .dataframe tbody tr th {\n",
       "        vertical-align: top;\n",
       "    }\n",
       "\n",
       "    .dataframe thead th {\n",
       "        text-align: right;\n",
       "    }\n",
       "</style>\n",
       "<table border=\"1\" class=\"dataframe\">\n",
       "  <thead>\n",
       "    <tr style=\"text-align: right;\">\n",
       "      <th></th>\n",
       "      <th>Question</th>\n",
       "      <th>Category</th>\n",
       "      <th>Success</th>\n",
       "      <th>runtime beats</th>\n",
       "      <th>memory beats</th>\n",
       "      <th>Level</th>\n",
       "      <th>Calls library?</th>\n",
       "      <th>success 2nd try</th>\n",
       "      <th>Unnamed: 8</th>\n",
       "      <th>Language</th>\n",
       "      <th>why fail</th>\n",
       "    </tr>\n",
       "  </thead>\n",
       "  <tbody>\n",
       "    <tr>\n",
       "      <th>267</th>\n",
       "      <td>Word Search II</td>\n",
       "      <td>Backtracking</td>\n",
       "      <td>No: Time Limit Exceeded</td>\n",
       "      <td>NaN</td>\n",
       "      <td>NaN</td>\n",
       "      <td>Hard</td>\n",
       "      <td>No: it tried a more complex appraoch involving...</td>\n",
       "      <td>NaN</td>\n",
       "      <td>NaN</td>\n",
       "      <td>C++</td>\n",
       "      <td>NaN</td>\n",
       "    </tr>\n",
       "  </tbody>\n",
       "</table>\n",
       "</div>"
      ],
      "text/plain": [
       "           Question      Category                  Success runtime beats  \\\n",
       "267  Word Search II  Backtracking  No: Time Limit Exceeded           NaN   \n",
       "\n",
       "    memory beats Level                                     Calls library?  \\\n",
       "267          NaN  Hard  No: it tried a more complex appraoch involving...   \n",
       "\n",
       "    success 2nd try  Unnamed: 8 Language why fail  \n",
       "267             NaN         NaN      C++      NaN  "
      ]
     },
     "execution_count": 36,
     "metadata": {},
     "output_type": "execute_result"
    }
   ],
   "source": [
    "df[(df['Category'] == \"Backtracking\") & (df['Success'].str.contains('No')) & (df['Language'] == \"C++\")]"
   ]
  },
  {
   "cell_type": "code",
   "execution_count": 37,
   "metadata": {},
   "outputs": [
    {
     "data": {
      "text/html": [
       "<div>\n",
       "<style scoped>\n",
       "    .dataframe tbody tr th:only-of-type {\n",
       "        vertical-align: middle;\n",
       "    }\n",
       "\n",
       "    .dataframe tbody tr th {\n",
       "        vertical-align: top;\n",
       "    }\n",
       "\n",
       "    .dataframe thead th {\n",
       "        text-align: right;\n",
       "    }\n",
       "</style>\n",
       "<table border=\"1\" class=\"dataframe\">\n",
       "  <thead>\n",
       "    <tr style=\"text-align: right;\">\n",
       "      <th></th>\n",
       "      <th>Question</th>\n",
       "      <th>Category</th>\n",
       "      <th>Success</th>\n",
       "      <th>runtime beats</th>\n",
       "      <th>memory beats</th>\n",
       "      <th>Level</th>\n",
       "      <th>Calls library?</th>\n",
       "      <th>success 2nd try</th>\n",
       "      <th>Unnamed: 8</th>\n",
       "      <th>Language</th>\n",
       "      <th>why fail</th>\n",
       "    </tr>\n",
       "  </thead>\n",
       "  <tbody>\n",
       "    <tr>\n",
       "      <th>121</th>\n",
       "      <td>Word Search II</td>\n",
       "      <td>Backtracking</td>\n",
       "      <td>No (time limit exceeded)</td>\n",
       "      <td>NaN</td>\n",
       "      <td>NaN</td>\n",
       "      <td>Hard</td>\n",
       "      <td>Yes</td>\n",
       "      <td>No (wrong result), i also tried a third time w...</td>\n",
       "      <td>NaN</td>\n",
       "      <td>Python</td>\n",
       "      <td>NaN</td>\n",
       "    </tr>\n",
       "  </tbody>\n",
       "</table>\n",
       "</div>"
      ],
      "text/plain": [
       "           Question      Category                   Success runtime beats  \\\n",
       "121  Word Search II  Backtracking  No (time limit exceeded)           NaN   \n",
       "\n",
       "    memory beats Level Calls library?  \\\n",
       "121          NaN  Hard            Yes   \n",
       "\n",
       "                                       success 2nd try  Unnamed: 8 Language  \\\n",
       "121  No (wrong result), i also tried a third time w...         NaN   Python   \n",
       "\n",
       "    why fail  \n",
       "121      NaN  "
      ]
     },
     "execution_count": 37,
     "metadata": {},
     "output_type": "execute_result"
    }
   ],
   "source": [
    "df[(df['Category'] == \"Backtracking\") & (df['Success'].str.contains('No')) & (df['Language'] == \"Python\")]"
   ]
  },
  {
   "cell_type": "code",
   "execution_count": 38,
   "metadata": {},
   "outputs": [
    {
     "data": {
      "text/html": [
       "<div>\n",
       "<style scoped>\n",
       "    .dataframe tbody tr th:only-of-type {\n",
       "        vertical-align: middle;\n",
       "    }\n",
       "\n",
       "    .dataframe tbody tr th {\n",
       "        vertical-align: top;\n",
       "    }\n",
       "\n",
       "    .dataframe thead th {\n",
       "        text-align: right;\n",
       "    }\n",
       "</style>\n",
       "<table border=\"1\" class=\"dataframe\">\n",
       "  <thead>\n",
       "    <tr style=\"text-align: right;\">\n",
       "      <th></th>\n",
       "      <th>Question</th>\n",
       "      <th>Category</th>\n",
       "      <th>Success</th>\n",
       "      <th>runtime beats</th>\n",
       "      <th>memory beats</th>\n",
       "      <th>Level</th>\n",
       "      <th>Calls library?</th>\n",
       "      <th>success 2nd try</th>\n",
       "      <th>Unnamed: 8</th>\n",
       "      <th>Language</th>\n",
       "      <th>why fail</th>\n",
       "    </tr>\n",
       "  </thead>\n",
       "  <tbody>\n",
       "    <tr>\n",
       "      <th>283</th>\n",
       "      <td>Flatten Nested List Iterator</td>\n",
       "      <td>Design</td>\n",
       "      <td>No: wrong answer</td>\n",
       "      <td>NaN</td>\n",
       "      <td>NaN</td>\n",
       "      <td>Hard</td>\n",
       "      <td>Yes (after being told of wrong answer): 72.19 ...</td>\n",
       "      <td>NaN</td>\n",
       "      <td>NaN</td>\n",
       "      <td>C++</td>\n",
       "      <td>NaN</td>\n",
       "    </tr>\n",
       "  </tbody>\n",
       "</table>\n",
       "</div>"
      ],
      "text/plain": [
       "                         Question Category           Success runtime beats  \\\n",
       "283  Flatten Nested List Iterator   Design  No: wrong answer           NaN   \n",
       "\n",
       "    memory beats Level                                     Calls library?  \\\n",
       "283          NaN  Hard  Yes (after being told of wrong answer): 72.19 ...   \n",
       "\n",
       "    success 2nd try  Unnamed: 8 Language why fail  \n",
       "283             NaN         NaN      C++      NaN  "
      ]
     },
     "execution_count": 38,
     "metadata": {},
     "output_type": "execute_result"
    }
   ],
   "source": [
    "df[(df['Category'] == \"Design\") & (df['Success'].str.contains('No')) & (df['Language'] == \"C++\")]"
   ]
  },
  {
   "cell_type": "code",
   "execution_count": 39,
   "metadata": {},
   "outputs": [
    {
     "data": {
      "text/html": [
       "<div>\n",
       "<style scoped>\n",
       "    .dataframe tbody tr th:only-of-type {\n",
       "        vertical-align: middle;\n",
       "    }\n",
       "\n",
       "    .dataframe tbody tr th {\n",
       "        vertical-align: top;\n",
       "    }\n",
       "\n",
       "    .dataframe thead th {\n",
       "        text-align: right;\n",
       "    }\n",
       "</style>\n",
       "<table border=\"1\" class=\"dataframe\">\n",
       "  <thead>\n",
       "    <tr style=\"text-align: right;\">\n",
       "      <th></th>\n",
       "      <th>Question</th>\n",
       "      <th>Category</th>\n",
       "      <th>Success</th>\n",
       "      <th>runtime beats</th>\n",
       "      <th>memory beats</th>\n",
       "      <th>Level</th>\n",
       "      <th>Calls library?</th>\n",
       "      <th>success 2nd try</th>\n",
       "      <th>Unnamed: 8</th>\n",
       "      <th>Language</th>\n",
       "      <th>why fail</th>\n",
       "    </tr>\n",
       "  </thead>\n",
       "  <tbody>\n",
       "    <tr>\n",
       "      <th>82</th>\n",
       "      <td>Serialize and Deserialize Binary Tree</td>\n",
       "      <td>Design</td>\n",
       "      <td>No, Wrong Answer</td>\n",
       "      <td>NaN</td>\n",
       "      <td>NaN</td>\n",
       "      <td>Medium</td>\n",
       "      <td>NaN</td>\n",
       "      <td>NaN</td>\n",
       "      <td>NaN</td>\n",
       "      <td>Python</td>\n",
       "      <td>NaN</td>\n",
       "    </tr>\n",
       "  </tbody>\n",
       "</table>\n",
       "</div>"
      ],
      "text/plain": [
       "                                 Question Category           Success  \\\n",
       "82  Serialize and Deserialize Binary Tree   Design  No, Wrong Answer   \n",
       "\n",
       "   runtime beats memory beats   Level Calls library? success 2nd try  \\\n",
       "82           NaN          NaN  Medium            NaN             NaN   \n",
       "\n",
       "    Unnamed: 8 Language why fail  \n",
       "82         NaN   Python      NaN  "
      ]
     },
     "execution_count": 39,
     "metadata": {},
     "output_type": "execute_result"
    }
   ],
   "source": [
    "df[(df['Category'] == \"Design\") & (df['Success'].str.contains('No')) & (df['Language'] == \"Python\")]"
   ]
  },
  {
   "cell_type": "code",
   "execution_count": 40,
   "metadata": {},
   "outputs": [
    {
     "data": {
      "text/html": [
       "<div>\n",
       "<style scoped>\n",
       "    .dataframe tbody tr th:only-of-type {\n",
       "        vertical-align: middle;\n",
       "    }\n",
       "\n",
       "    .dataframe tbody tr th {\n",
       "        vertical-align: top;\n",
       "    }\n",
       "\n",
       "    .dataframe thead th {\n",
       "        text-align: right;\n",
       "    }\n",
       "</style>\n",
       "<table border=\"1\" class=\"dataframe\">\n",
       "  <thead>\n",
       "    <tr style=\"text-align: right;\">\n",
       "      <th></th>\n",
       "      <th>Question</th>\n",
       "      <th>Category</th>\n",
       "      <th>Success</th>\n",
       "      <th>runtime beats</th>\n",
       "      <th>memory beats</th>\n",
       "      <th>Level</th>\n",
       "      <th>Calls library?</th>\n",
       "      <th>success 2nd try</th>\n",
       "      <th>Unnamed: 8</th>\n",
       "      <th>Language</th>\n",
       "      <th>why fail</th>\n",
       "    </tr>\n",
       "  </thead>\n",
       "  <tbody>\n",
       "  </tbody>\n",
       "</table>\n",
       "</div>"
      ],
      "text/plain": [
       "Empty DataFrame\n",
       "Columns: [Question, Category, Success, runtime beats, memory beats, Level, Calls library?, success 2nd try, Unnamed: 8, Language, why fail]\n",
       "Index: []"
      ]
     },
     "execution_count": 40,
     "metadata": {},
     "output_type": "execute_result"
    }
   ],
   "source": [
    "df[(df['Category'] == \"Dynamic Programming\") & (df['Success'].str.contains('No')) & (df['Language'] == \"Python\")]"
   ]
  },
  {
   "cell_type": "code",
   "execution_count": 41,
   "metadata": {},
   "outputs": [
    {
     "data": {
      "text/html": [
       "<div>\n",
       "<style scoped>\n",
       "    .dataframe tbody tr th:only-of-type {\n",
       "        vertical-align: middle;\n",
       "    }\n",
       "\n",
       "    .dataframe tbody tr th {\n",
       "        vertical-align: top;\n",
       "    }\n",
       "\n",
       "    .dataframe thead th {\n",
       "        text-align: right;\n",
       "    }\n",
       "</style>\n",
       "<table border=\"1\" class=\"dataframe\">\n",
       "  <thead>\n",
       "    <tr style=\"text-align: right;\">\n",
       "      <th></th>\n",
       "      <th>Question</th>\n",
       "      <th>Category</th>\n",
       "      <th>Success</th>\n",
       "      <th>runtime beats</th>\n",
       "      <th>memory beats</th>\n",
       "      <th>Level</th>\n",
       "      <th>Calls library?</th>\n",
       "      <th>success 2nd try</th>\n",
       "      <th>Unnamed: 8</th>\n",
       "      <th>Language</th>\n",
       "      <th>why fail</th>\n",
       "    </tr>\n",
       "  </thead>\n",
       "  <tbody>\n",
       "  </tbody>\n",
       "</table>\n",
       "</div>"
      ],
      "text/plain": [
       "Empty DataFrame\n",
       "Columns: [Question, Category, Success, runtime beats, memory beats, Level, Calls library?, success 2nd try, Unnamed: 8, Language, why fail]\n",
       "Index: []"
      ]
     },
     "execution_count": 41,
     "metadata": {},
     "output_type": "execute_result"
    }
   ],
   "source": [
    "df[(df['Category'] == \"Dynamic Programming\") & (df['Success'].str.contains('No')) & (df['Language'] == \"C++\")]"
   ]
  },
  {
   "cell_type": "code",
   "execution_count": 42,
   "metadata": {},
   "outputs": [
    {
     "data": {
      "text/html": [
       "<div>\n",
       "<style scoped>\n",
       "    .dataframe tbody tr th:only-of-type {\n",
       "        vertical-align: middle;\n",
       "    }\n",
       "\n",
       "    .dataframe tbody tr th {\n",
       "        vertical-align: top;\n",
       "    }\n",
       "\n",
       "    .dataframe thead th {\n",
       "        text-align: right;\n",
       "    }\n",
       "</style>\n",
       "<table border=\"1\" class=\"dataframe\">\n",
       "  <thead>\n",
       "    <tr style=\"text-align: right;\">\n",
       "      <th></th>\n",
       "      <th>Question</th>\n",
       "      <th>Category</th>\n",
       "      <th>Success</th>\n",
       "      <th>runtime beats</th>\n",
       "      <th>memory beats</th>\n",
       "      <th>Level</th>\n",
       "      <th>Calls library?</th>\n",
       "      <th>success 2nd try</th>\n",
       "      <th>Unnamed: 8</th>\n",
       "      <th>Language</th>\n",
       "      <th>why fail</th>\n",
       "    </tr>\n",
       "  </thead>\n",
       "  <tbody>\n",
       "  </tbody>\n",
       "</table>\n",
       "</div>"
      ],
      "text/plain": [
       "Empty DataFrame\n",
       "Columns: [Question, Category, Success, runtime beats, memory beats, Level, Calls library?, success 2nd try, Unnamed: 8, Language, why fail]\n",
       "Index: []"
      ]
     },
     "execution_count": 42,
     "metadata": {},
     "output_type": "execute_result"
    }
   ],
   "source": [
    "df[(df['Category'] == \"Linked List\") & (df['Success'].str.contains('No')) & (df['Language'] == \"C++\")]"
   ]
  },
  {
   "cell_type": "code",
   "execution_count": 43,
   "metadata": {},
   "outputs": [
    {
     "data": {
      "text/html": [
       "<div>\n",
       "<style scoped>\n",
       "    .dataframe tbody tr th:only-of-type {\n",
       "        vertical-align: middle;\n",
       "    }\n",
       "\n",
       "    .dataframe tbody tr th {\n",
       "        vertical-align: top;\n",
       "    }\n",
       "\n",
       "    .dataframe thead th {\n",
       "        text-align: right;\n",
       "    }\n",
       "</style>\n",
       "<table border=\"1\" class=\"dataframe\">\n",
       "  <thead>\n",
       "    <tr style=\"text-align: right;\">\n",
       "      <th></th>\n",
       "      <th>Question</th>\n",
       "      <th>Category</th>\n",
       "      <th>Success</th>\n",
       "      <th>runtime beats</th>\n",
       "      <th>memory beats</th>\n",
       "      <th>Level</th>\n",
       "      <th>Calls library?</th>\n",
       "      <th>success 2nd try</th>\n",
       "      <th>Unnamed: 8</th>\n",
       "      <th>Language</th>\n",
       "      <th>why fail</th>\n",
       "    </tr>\n",
       "  </thead>\n",
       "  <tbody>\n",
       "  </tbody>\n",
       "</table>\n",
       "</div>"
      ],
      "text/plain": [
       "Empty DataFrame\n",
       "Columns: [Question, Category, Success, runtime beats, memory beats, Level, Calls library?, success 2nd try, Unnamed: 8, Language, why fail]\n",
       "Index: []"
      ]
     },
     "execution_count": 43,
     "metadata": {},
     "output_type": "execute_result"
    }
   ],
   "source": [
    "df[(df['Category'] == \"Math\") & (df['Success'].str.contains('No')) & (df['Language'] == \"C++\")]"
   ]
  },
  {
   "cell_type": "code",
   "execution_count": 44,
   "metadata": {},
   "outputs": [
    {
     "data": {
      "text/html": [
       "<div>\n",
       "<style scoped>\n",
       "    .dataframe tbody tr th:only-of-type {\n",
       "        vertical-align: middle;\n",
       "    }\n",
       "\n",
       "    .dataframe tbody tr th {\n",
       "        vertical-align: top;\n",
       "    }\n",
       "\n",
       "    .dataframe thead th {\n",
       "        text-align: right;\n",
       "    }\n",
       "</style>\n",
       "<table border=\"1\" class=\"dataframe\">\n",
       "  <thead>\n",
       "    <tr style=\"text-align: right;\">\n",
       "      <th></th>\n",
       "      <th>Question</th>\n",
       "      <th>Category</th>\n",
       "      <th>Success</th>\n",
       "      <th>runtime beats</th>\n",
       "      <th>memory beats</th>\n",
       "      <th>Level</th>\n",
       "      <th>Calls library?</th>\n",
       "      <th>success 2nd try</th>\n",
       "      <th>Unnamed: 8</th>\n",
       "      <th>Language</th>\n",
       "      <th>why fail</th>\n",
       "    </tr>\n",
       "  </thead>\n",
       "  <tbody>\n",
       "    <tr>\n",
       "      <th>140</th>\n",
       "      <td>Max Points on a Line</td>\n",
       "      <td>Math</td>\n",
       "      <td>No (runtime error)</td>\n",
       "      <td>NaN</td>\n",
       "      <td>NaN</td>\n",
       "      <td>Hard</td>\n",
       "      <td>Yes</td>\n",
       "      <td>Yes. runtime: 88.96, memory: 64.72</td>\n",
       "      <td>NaN</td>\n",
       "      <td>Python</td>\n",
       "      <td>NaN</td>\n",
       "    </tr>\n",
       "  </tbody>\n",
       "</table>\n",
       "</div>"
      ],
      "text/plain": [
       "                 Question Category             Success runtime beats  \\\n",
       "140  Max Points on a Line     Math  No (runtime error)           NaN   \n",
       "\n",
       "    memory beats Level Calls library?                     success 2nd try  \\\n",
       "140          NaN  Hard            Yes  Yes. runtime: 88.96, memory: 64.72   \n",
       "\n",
       "     Unnamed: 8 Language why fail  \n",
       "140         NaN   Python      NaN  "
      ]
     },
     "execution_count": 44,
     "metadata": {},
     "output_type": "execute_result"
    }
   ],
   "source": [
    "df[(df['Category'] == \"Math\") & (df['Success'].str.contains('No')) & (df['Language'] == \"Python\")]"
   ]
  }
 ],
 "metadata": {
  "kernelspec": {
   "display_name": "general_python",
   "language": "python",
   "name": "python3"
  },
  "language_info": {
   "codemirror_mode": {
    "name": "ipython",
    "version": 3
   },
   "file_extension": ".py",
   "mimetype": "text/x-python",
   "name": "python",
   "nbconvert_exporter": "python",
   "pygments_lexer": "ipython3",
   "version": "3.9.13"
  },
  "orig_nbformat": 4,
  "vscode": {
   "interpreter": {
    "hash": "7c3e526f4a6ab4d5f6671d8fb797184f1bef3e2feebabbcf62f91dc0a7ee23aa"
   }
  }
 },
 "nbformat": 4,
 "nbformat_minor": 2
}
